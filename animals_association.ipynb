{
 "cells": [
  {
   "cell_type": "code",
   "execution_count": null,
   "id": "4846cc31",
   "metadata": {},
   "outputs": [],
   "source": [
    "import pandas as pd\n",
    "import mlxtend"
   ]
  },
  {
   "cell_type": "code",
   "execution_count": null,
   "id": "7fe00c0a",
   "metadata": {},
   "outputs": [],
   "source": [
    "from mlxtend.frequent_patterns import apriori, association_rules"
   ]
  },
  {
   "cell_type": "code",
   "execution_count": null,
   "id": "46c62049",
   "metadata": {},
   "outputs": [],
   "source": [
    "df = pd.read_csv('animals_transactions_2010.csv', comment='#')"
   ]
  },
  {
   "cell_type": "code",
   "execution_count": null,
   "id": "248cff8e",
   "metadata": {},
   "outputs": [],
   "source": [
    "df.shape"
   ]
  },
  {
   "cell_type": "code",
   "execution_count": null,
   "id": "4957751e",
   "metadata": {},
   "outputs": [],
   "source": [
    "df.describe()"
   ]
  },
  {
   "cell_type": "code",
   "execution_count": null,
   "id": "b5e1dd41",
   "metadata": {},
   "outputs": [],
   "source": [
    "ap_itemsets = apriori(df, \n",
    "                      min_support=0.2,  # choose the (relative) minsup\n",
    "                      use_colnames=True)"
   ]
  },
  {
   "cell_type": "code",
   "execution_count": null,
   "id": "8fa9c864",
   "metadata": {},
   "outputs": [],
   "source": [
    "ap_itemsets.sort_values(by='support', ascending=False).head(20)  # Display the top 10 frequent itemsets"
   ]
  },
  {
   "cell_type": "code",
   "execution_count": null,
   "id": "d290402b",
   "metadata": {},
   "outputs": [],
   "source": [
    "ap_rules = association_rules(ap_itemsets, \n",
    "                             metric='confidence', \n",
    "                             min_threshold=0.7)"
   ]
  },
  {
   "cell_type": "code",
   "execution_count": null,
   "id": "2da6dc01",
   "metadata": {},
   "outputs": [],
   "source": [
    "ap_rules.sort_values('lift', ascending=False).head(30)"
   ]
  },
  {
   "cell_type": "code",
   "execution_count": null,
   "id": "12fec4e5",
   "metadata": {},
   "outputs": [],
   "source": [
    "from mlxtend.frequent_patterns import fpgrowth\n",
    "from mlxtend.frequent_patterns import fpmax\n",
    "\n",
    "# Generate frequent itemsets using FP-Growth\n",
    "fp_itemsets = fpgrowth(df, min_support=0.2, use_colnames=True)\n",
    "\n",
    "# Display the frequent itemsets (FP-tree visualization is not directly supported by mlxtend)\n",
    "fp_itemsets.sort_values(by='support', ascending=False).head(20)"
   ]
  }
 ],
 "metadata": {
  "kernelspec": {
   "display_name": ".env",
   "language": "python",
   "name": "python3"
  },
  "language_info": {
   "codemirror_mode": {
    "name": "ipython",
    "version": 3
   },
   "file_extension": ".py",
   "mimetype": "text/x-python",
   "name": "python",
   "nbconvert_exporter": "python",
   "pygments_lexer": "ipython3",
   "version": "3.13.2"
  }
 },
 "nbformat": 4,
 "nbformat_minor": 5
}
