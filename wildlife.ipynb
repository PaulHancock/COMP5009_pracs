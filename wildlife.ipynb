{
 "cells": [
  {
   "cell_type": "code",
   "execution_count": null,
   "id": "d72c25a3",
   "metadata": {},
   "outputs": [],
   "source": [
    "import pandas as pd\n",
    "import numpy as np"
   ]
  },
  {
   "cell_type": "code",
   "execution_count": null,
   "id": "54712a3e",
   "metadata": {},
   "outputs": [],
   "source": [
    "df = pd.read_csv(\"animals.csv\", header=None, names=[\"Region\", \"Year\", \"Name\"])"
   ]
  },
  {
   "cell_type": "code",
   "execution_count": null,
   "id": "2974f74e",
   "metadata": {},
   "outputs": [],
   "source": [
    "df = df[df['Year']==2010].drop(columns=\"Year\")"
   ]
  },
  {
   "cell_type": "code",
   "execution_count": null,
   "id": "d8254f68",
   "metadata": {},
   "outputs": [],
   "source": [
    "df.describe()"
   ]
  },
  {
   "cell_type": "code",
   "execution_count": null,
   "id": "62122fd8",
   "metadata": {},
   "outputs": [],
   "source": [
    "df['Region'].nunique()"
   ]
  },
  {
   "cell_type": "code",
   "execution_count": null,
   "id": "250bdc42",
   "metadata": {},
   "outputs": [],
   "source": [
    "df.groupby('Region').size().sort_values(ascending=False)"
   ]
  },
  {
   "cell_type": "code",
   "execution_count": null,
   "id": "30a6e18d",
   "metadata": {},
   "outputs": [],
   "source": [
    "df.groupby('Name').size().sort_values(ascending=False)"
   ]
  },
  {
   "cell_type": "code",
   "execution_count": null,
   "id": "780f599f",
   "metadata": {},
   "outputs": [],
   "source": [
    "# Randomly select 20 items from the \"Name\" column, mixing common and uncommon names\n",
    "np.random.seed(43)  # For reproducibility\n",
    "random_names = df.groupby('Name').size().sort_values(ascending=False)[np.random.randint(10,800, 10)].index.tolist()\n",
    "random_names"
   ]
  },
  {
   "cell_type": "code",
   "execution_count": null,
   "id": "9cb771ed",
   "metadata": {},
   "outputs": [],
   "source": [
    "df[df['Name'].isin(random_names)].groupby('Region').size().sort_values(ascending=False)"
   ]
  },
  {
   "cell_type": "code",
   "execution_count": null,
   "id": "b224f511",
   "metadata": {},
   "outputs": [],
   "source": [
    "unique_names_per_region = df[df['Name'].isin(random_names)].groupby('Region')['Name'].unique()\n",
    "unique_names_per_region"
   ]
  },
  {
   "cell_type": "code",
   "execution_count": null,
   "id": "c62d5a51",
   "metadata": {},
   "outputs": [],
   "source": [
    "transactions = [ unique_names_per_region[region].tolist() for region in unique_names_per_region.index ]  # Convert to list of lists for each region"
   ]
  },
  {
   "cell_type": "code",
   "execution_count": null,
   "id": "a52503da",
   "metadata": {},
   "outputs": [],
   "source": [
    "# Create a DataFrame from transactions with columns as common_animals\n",
    "one_hot_df = pd.DataFrame([\n",
    "    [animal in transaction for animal in random_names]\n",
    "    for transaction in transactions\n",
    "], columns=random_names)\n",
    "\n",
    "one_hot_df.head()"
   ]
  },
  {
   "cell_type": "code",
   "execution_count": null,
   "id": "22dfb755",
   "metadata": {},
   "outputs": [],
   "source": [
    "one_hot_df.describe()"
   ]
  },
  {
   "cell_type": "code",
   "execution_count": null,
   "id": "eb8dfe66",
   "metadata": {},
   "outputs": [],
   "source": [
    "one_hot_df.to_csv(\"animals_transactions_2010.csv\", index=False)  # Save the one-hot encoded DataFrame to a CSV file"
   ]
  },
  {
   "cell_type": "code",
   "execution_count": null,
   "id": "6a5808c9",
   "metadata": {},
   "outputs": [],
   "source": []
  }
 ],
 "metadata": {
  "kernelspec": {
   "display_name": ".env",
   "language": "python",
   "name": "python3"
  },
  "language_info": {
   "codemirror_mode": {
    "name": "ipython",
    "version": 3
   },
   "file_extension": ".py",
   "mimetype": "text/x-python",
   "name": "python",
   "nbconvert_exporter": "python",
   "pygments_lexer": "ipython3",
   "version": "3.13.2"
  }
 },
 "nbformat": 4,
 "nbformat_minor": 5
}
